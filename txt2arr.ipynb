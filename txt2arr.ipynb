{
 "cells": [
  {
   "cell_type": "code",
   "execution_count": 8,
   "id": "ba271d8c-8a71-4f88-9f45-c0313bbd1f54",
   "metadata": {},
   "outputs": [],
   "source": [
    "import numpy as np\n",
    "import random"
   ]
  },
  {
   "cell_type": "code",
   "execution_count": 24,
   "id": "237f01a8-7edd-4507-91c4-06e2268a55c9",
   "metadata": {},
   "outputs": [],
   "source": [
    "# import libery"
   ]
  },
  {
   "cell_type": "code",
   "execution_count": 16,
   "id": "4f473dcd-90a2-471f-961a-feb83d5d70f2",
   "metadata": {},
   "outputs": [],
   "source": [
    "def txt_randint(file_name) :\n",
    "    rand_num = str(random.randint(10**9, 20*(10**9)))\n",
    "    with open(file_name, 'w') as f :\n",
    "        f.write(rand_num)"
   ]
  },
  {
   "cell_type": "code",
   "execution_count": 27,
   "id": "ca7dfc1b-00b6-4593-9165-f885ea78cbb9",
   "metadata": {},
   "outputs": [],
   "source": [
    "# U give it file name (you make it in 'txt2arr.ipynb' dir or write file location)"
   ]
  },
  {
   "cell_type": "code",
   "execution_count": 4,
   "id": "d58c626c-9825-4975-bf30-1e0db6b76c7c",
   "metadata": {},
   "outputs": [],
   "source": [
    "def txt2arr(file_name) :\n",
    "    with open(file_name, 'r') as f :\n",
    "        lst_num = list(f.read())\n",
    "        data_arr = np.array(lst_num)\n",
    "        sh = len(lst_num)\n",
    "        axis_0 = 0\n",
    "        for i in range(3, sh + 1) :\n",
    "            if sh % i == 0 :\n",
    "                axis_0 = i\n",
    "                break\n",
    "        axis_1 = int(sh / axis_0)\n",
    "        data_arr_rsh = data_arr.reshape(axis_0, axis_1)\n",
    "        print(data_arr_rsh)"
   ]
  },
  {
   "cell_type": "code",
   "execution_count": 1,
   "id": "cd79bf96-ec98-42f9-a83b-e38ca2b7bd81",
   "metadata": {},
   "outputs": [],
   "source": [
    "# it is make array with number in Ur txt file with best shape"
   ]
  },
  {
   "cell_type": "code",
   "execution_count": 2,
   "id": "09fa329d-0535-4941-9198-67f83615b2d4",
   "metadata": {},
   "outputs": [],
   "source": [
    "# made by TAKING Programmer (Taha | Taik)"
   ]
  }
 ],
 "metadata": {
  "kernelspec": {
   "display_name": "Python 3 (ipykernel)",
   "language": "python",
   "name": "python3"
  },
  "language_info": {
   "codemirror_mode": {
    "name": "ipython",
    "version": 3
   },
   "file_extension": ".py",
   "mimetype": "text/x-python",
   "name": "python",
   "nbconvert_exporter": "python",
   "pygments_lexer": "ipython3",
   "version": "3.12.4"
  }
 },
 "nbformat": 4,
 "nbformat_minor": 5
}
